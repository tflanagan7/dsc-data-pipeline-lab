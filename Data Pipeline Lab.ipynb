{
 "cells": [
  {
   "cell_type": "markdown",
   "metadata": {},
   "source": [
    "### Objectives\n",
    "- To create a mock pipeline based on the business model that students choose\n",
    "\n",
    "### Introduction\n",
    "\n",
    "Based on the previous readings, we will simulate how we can best determine\n",
    "- The state of the current system (legacy)\n",
    "- Whether we should migrate the system to cloud\n",
    "- (Optional) Designing the architecture of the cloud system\n"
   ]
  },
  {
   "cell_type": "markdown",
   "metadata": {},
   "source": [
    "### Problem Statement\n",
    "Suppose you're a decision maker in the engineering team at an eCommerce company which currently generates millions of dollars in net revenue. You have a legacy system that sits on company's data centers in remote locations, away from the headquarter where your office is. The engineering team and the data analytics team have made the decision that they would like to build a search engine, recommendation engine, and few other engines that require heavy machine learning models to increase the revenue for the company. As a decision maker, you need to assess the current system, and the engineering requirement for the future fiscal years. So you decide to answer some questions and prepare answers for the next leadership meeting.\n",
    "\n",
    "\n",
    "Currently, the capability of the data center is limited based on the square footage of the location, as well as the hardware that can be stored in the square footage. The data center resource is not only shared in the engineering team, but also within the supply chain team, logistics, HR's IT platform, and also with some other internal operations, like marketing, leadership, and also analytics team. The data centers have maxed out in terms of the hardware that they can support, and may be in need of expanding and opening up another data center."
   ]
  },
  {
   "cell_type": "markdown",
   "metadata": {},
   "source": [
    "#### Assumptions when solving this problem\n",
    "\n",
    "- The problem statement merely states the current business problem you're facing. The design of the hypothetical data center, like square footage, hardware capabilities, human resources are all something you can create! The limitation is one thing to keep in mind, that in any data center(s), you have ran out of spaces to add more hardware.\n",
    "- You can assume based on the revenue the company is making how much data is being generated per day.\n",
    "- Be creative! If you're using third party data, i.e. Adobe Target for audience targeting, how are we receiving that data? Will that data sit on our data center and will it take up the resources? These are free constraints that you can create, but be realistic."
   ]
  },
  {
   "cell_type": "markdown",
   "metadata": {},
   "source": [
    "1. What is the current cost of maintaining the remote data center location?"
   ]
  },
  {
   "cell_type": "code",
   "execution_count": 2,
   "metadata": {},
   "outputs": [
    {
     "name": "stdout",
     "output_type": "stream",
     "text": [
      "\n",
      "Cost Categories running legacy system:\n",
      "1. Hardware costs\n",
      "2. Maintanence costs\n",
      "3. Physical site costs\n",
      "4. Electricity costs for power\n",
      "5. IT experts on-site to manage hardware i.e labor costs\n",
      "\n",
      "Some of these costs remain  after moving to a cloud system, while others change in  nature. For example IT experts while no\n",
      "longer needing to be on-site, will need to monitor a cloud-based data storage system, while Physical site costs and\n",
      "electricity costs are practically cut out entirely\n",
      "\n"
     ]
    }
   ],
   "source": [
    "# your solution\n",
    "print('''\n",
    "Cost Categories running legacy system:\n",
    "1. Hardware costs\n",
    "2. Maintanence costs\n",
    "3. Physical site costs\n",
    "4. Electricity costs for power\n",
    "5. IT experts on-site to manage hardware i.e labor costs\n",
    "\n",
    "Some of these costs remain  after moving to a cloud system, while others change in  nature. For example IT experts while no\n",
    "longer needing to be on-site, will need to monitor a cloud-based data storage system, while Physical site costs and\n",
    "electricity costs are practically cut out entirely\n",
    "'''\n",
    ")\n",
    "    "
   ]
  },
  {
   "cell_type": "markdown",
   "metadata": {},
   "source": [
    "2. What are the new business requirements from your engineering team? "
   ]
  },
  {
   "cell_type": "code",
   "execution_count": 3,
   "metadata": {},
   "outputs": [
    {
     "name": "stdout",
     "output_type": "stream",
     "text": [
      "\n",
      "I'd recommend shallow integration into a cloud-based system. Shallow integration moves the on-premise services to the cloud\n",
      "by making no changes or very little. We're recommending shallow integration as opposed to deep integration because nothing\n",
      "seems to  be suggested that issues are arising from processing capabilities, just storage capabilities, both physical and\n",
      "hardware. \n",
      "\n"
     ]
    }
   ],
   "source": [
    "# your solution, but be creative! It doesn't have to limit to the requirement from the problem statement\n",
    "print(\n",
    "'''\n",
    "I'd recommend shallow integration into a cloud-based system. Shallow integration moves the on-premise services to the cloud\n",
    "by making no changes or very little. We're recommending shallow integration as opposed to deep integration because nothing\n",
    "seems to  be suggested that issues are arising from processing capabilities, just storage capabilities, both physical and\n",
    "hardware. Business requirments for this means choosing a partner: AWS, Microsoft Azure, or GCP. We also need to decide what\n",
    "are important KPI's for our new system: load time? storage space? ect. \n",
    "'''\n",
    ")"
   ]
  },
  {
   "cell_type": "markdown",
   "metadata": {},
   "source": [
    "3. Based on the new business requirements, you decide that you need to start migrating (at least) your resources to the cloud system. What are some things that you may need to look into when considering migrating your legacy system to cloud?"
   ]
  },
  {
   "cell_type": "code",
   "execution_count": 4,
   "metadata": {},
   "outputs": [
    {
     "name": "stdout",
     "output_type": "stream",
     "text": [
      "\n",
      "As discussed above, we're suggesting a shallow migration. However, just because the legacy system has no processing problems\n",
      "right now, does not mean with the company expanding and the rise of future needs it won't always be sufficient.\n",
      "\n",
      "Section from canvas module touches on some of the additional questions we need to ask quite well:\n",
      "\n",
      "\"Can the legacy databases be replicated on the cloud? If not, what services do we have to pick to use? What are some \n",
      "potential risks, like security risks that we didn't think of when we stored our data on-premise? Any PII (Personally \n",
      "Identifiable Information) that need to be discussed with the security team before we migrate them to the cloud? Do we have \n",
      "enough developers to handle the migration?\"\n",
      "\n"
     ]
    }
   ],
   "source": [
    "# your solution\n",
    "print('''\n",
    "As discussed above, we're suggesting a shallow migration. However, just because the legacy system has no processing problems\n",
    "right now, does not mean with the company expanding and the rise of future needs it won't always be sufficient.\n",
    "\n",
    "Section from canvas module touches on some of the additional questions we need to ask quite well:\n",
    "\n",
    "\"Can the legacy databases be replicated on the cloud? If not, what services do we have to pick to use? What are some \n",
    "potential risks, like security risks that we didn't think of when we stored our data on-premise? Any PII (Personally \n",
    "Identifiable Information) that need to be discussed with the security team before we migrate them to the cloud? Do we have \n",
    "enough developers to handle the migration?\"\n",
    "'''\n",
    "     )"
   ]
  },
  {
   "cell_type": "markdown",
   "metadata": {},
   "source": [
    "4. In the end, you'll need to pursuade leadership why you need to migrate a system to another place, i.e. cloud, when in the eyes of leadership, everything is working fine. Write out cons/pros based on the shared categories, like cost, human resources, etc."
   ]
  },
  {
   "cell_type": "code",
   "execution_count": 5,
   "metadata": {},
   "outputs": [
    {
     "name": "stdout",
     "output_type": "stream",
     "text": [
      "\n",
      "Pros:\n",
      "long-term costs down\n",
      "quality of services\n",
      "more adaptable to future innovations\n",
      "\n",
      "Cons:\n",
      "short-term costs up\n",
      "security risks increase\n",
      "\n"
     ]
    }
   ],
   "source": [
    "# your solution\n",
    "print(\n",
    "'''\n",
    "Pros:\n",
    "long-term costs down\n",
    "quality of services our company provides\n",
    "more adaptable to future innovations - scalabilty\n",
    "saftey net in cloud storage -- easily backed up\n",
    "\n",
    "Cons:\n",
    "short-term costs up\n",
    "security risks increase\n",
    "'''\n",
    ")"
   ]
  },
  {
   "cell_type": "markdown",
   "metadata": {},
   "source": [
    "(OPTIONAL) This may require an engineering/software background. You have the same hypothetical machine learning architecture, but one on the legacy system and one on the cloud. Moving away from the business logic, what is the benefit on the engineering stack if we use the cloud? What can be problematic if we use the cloud?"
   ]
  },
  {
   "cell_type": "code",
   "execution_count": 5,
   "metadata": {},
   "outputs": [],
   "source": [
    "# your solution, attach a screenshot of a hypothetical architecture at a high level"
   ]
  },
  {
   "cell_type": "code",
   "execution_count": null,
   "metadata": {},
   "outputs": [],
   "source": []
  }
 ],
 "metadata": {
  "kernelspec": {
   "display_name": "Python 3",
   "language": "python",
   "name": "python3"
  },
  "language_info": {
   "codemirror_mode": {
    "name": "ipython",
    "version": 3
   },
   "file_extension": ".py",
   "mimetype": "text/x-python",
   "name": "python",
   "nbconvert_exporter": "python",
   "pygments_lexer": "ipython3",
   "version": "3.8.5"
  }
 },
 "nbformat": 4,
 "nbformat_minor": 5
}
